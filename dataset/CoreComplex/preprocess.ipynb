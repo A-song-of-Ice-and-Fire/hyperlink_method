{
 "cells": [
  {
   "cell_type": "code",
   "execution_count": 71,
   "metadata": {},
   "outputs": [],
   "source": [
    "import numpy as np \n",
    "import pandas as pd\n",
    "import scipy.sparse as ssp\n",
    "from collections import defaultdict"
   ]
  },
  {
   "cell_type": "code",
   "execution_count": 72,
   "metadata": {},
   "outputs": [],
   "source": [
    "file_path = r\"./raw_dataset/CoreComplex.xls\""
   ]
  },
  {
   "cell_type": "code",
   "execution_count": 73,
   "metadata": {},
   "outputs": [],
   "source": [
    "df = pd.read_excel(file_path)"
   ]
  },
  {
   "cell_type": "code",
   "execution_count": 74,
   "metadata": {},
   "outputs": [],
   "source": [
    "# 第一步 去重\n",
    "log_dict = defaultdict(set)"
   ]
  },
  {
   "cell_type": "code",
   "execution_count": 75,
   "metadata": {},
   "outputs": [],
   "source": [
    "coo = [[],[]]\n",
    "for index in range(len(df)):\n",
    "    log_dict[df.iloc[index][\"Complex ID\"]].add(df.iloc[index][\"Entrez ID\"])"
   ]
  },
  {
   "cell_type": "code",
   "execution_count": 76,
   "metadata": {},
   "outputs": [],
   "source": [
    "temp_set = set()\n",
    "for value in log_dict.values():\n",
    "    temp_set.add(frozenset(value))"
   ]
  },
  {
   "cell_type": "code",
   "execution_count": 77,
   "metadata": {},
   "outputs": [],
   "source": [
    "coo = [[],[]]\n",
    "for edge_index , nodes in enumerate(temp_set):\n",
    "    coo[0] += list(nodes)\n",
    "    coo[1] += [edge_index] * len(nodes)\n"
   ]
  },
  {
   "cell_type": "code",
   "execution_count": 78,
   "metadata": {},
   "outputs": [],
   "source": [
    "coo[0] , coo[1] = np.array(coo[0]) , np.array(coo[1])"
   ]
  },
  {
   "cell_type": "code",
   "execution_count": 79,
   "metadata": {},
   "outputs": [],
   "source": [
    "coo[0] , coo[1] = coo[0] - coo[0].min() , coo[1] - coo[1].min()"
   ]
  },
  {
   "cell_type": "code",
   "execution_count": 80,
   "metadata": {},
   "outputs": [
    {
     "data": {
      "text/plain": [
       "[array([28512, 51105, 23383, ...,  3976,  5881,  3362], dtype=int64),\n",
       " array([   0,    0,    0, ..., 1337, 1337, 1337])]"
      ]
     },
     "execution_count": 80,
     "metadata": {},
     "output_type": "execute_result"
    }
   ],
   "source": [
    "coo"
   ]
  },
  {
   "cell_type": "code",
   "execution_count": 81,
   "metadata": {},
   "outputs": [],
   "source": [
    "data = np.ones_like(coo[0])\n",
    "inc_matrix = ssp.coo_matrix((data,(coo[0],coo[1]))).tocsr()"
   ]
  },
  {
   "cell_type": "code",
   "execution_count": 82,
   "metadata": {},
   "outputs": [
    {
     "data": {
      "text/plain": [
       "(751864, 1338)"
      ]
     },
     "execution_count": 82,
     "metadata": {},
     "output_type": "execute_result"
    }
   ],
   "source": [
    "inc_matrix.shape"
   ]
  },
  {
   "cell_type": "code",
   "execution_count": 91,
   "metadata": {},
   "outputs": [],
   "source": [
    "inc_matrix = inc_matrix[np.where(np.asarray(inc_matrix.sum(axis=1)).squeeze() >= 1)[0],:]"
   ]
  },
  {
   "cell_type": "code",
   "execution_count": 92,
   "metadata": {},
   "outputs": [
    {
     "data": {
      "text/plain": [
       "array([   0,    1,    2, ..., 2311, 2312, 2313], dtype=int64)"
      ]
     },
     "execution_count": 92,
     "metadata": {},
     "output_type": "execute_result"
    }
   ],
   "source": [
    "np.where(np.asarray(inc_matrix.sum(axis=1)).squeeze() >= 1)[0]"
   ]
  },
  {
   "cell_type": "code",
   "execution_count": 94,
   "metadata": {},
   "outputs": [],
   "source": [
    "np.save(\"./incidence_matrix.npy\",inc_matrix.toarray())"
   ]
  },
  {
   "cell_type": "code",
   "execution_count": 95,
   "metadata": {},
   "outputs": [],
   "source": [
    "a = np.load(\"./incidence_matrix.npy\")"
   ]
  }
 ],
 "metadata": {
  "interpreter": {
   "hash": "8fd5a14eb23a7abdb9838cfff23227c1aeca798e65d6a5b1aae3806a05736524"
  },
  "kernelspec": {
   "display_name": "Python 3.7.12 ('hlp')",
   "language": "python",
   "name": "python3"
  },
  "language_info": {
   "codemirror_mode": {
    "name": "ipython",
    "version": 3
   },
   "file_extension": ".py",
   "mimetype": "text/x-python",
   "name": "python",
   "nbconvert_exporter": "python",
   "pygments_lexer": "ipython3",
   "version": "3.7.12"
  },
  "orig_nbformat": 4
 },
 "nbformat": 4,
 "nbformat_minor": 2
}
