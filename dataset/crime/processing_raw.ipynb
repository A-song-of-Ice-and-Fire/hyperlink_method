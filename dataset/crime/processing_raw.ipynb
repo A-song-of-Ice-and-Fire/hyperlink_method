{
 "cells": [
  {
   "cell_type": "code",
   "execution_count": 1,
   "metadata": {},
   "outputs": [],
   "source": [
    "import numpy as np \n",
    "import os\n",
    "import scipy.sparse as ssp"
   ]
  },
  {
   "cell_type": "code",
   "execution_count": 7,
   "metadata": {},
   "outputs": [],
   "source": [
    "input_path = r\"./raw_dataset/out.moreno_crime_crime\"\n",
    "save_dir = \".\""
   ]
  },
  {
   "cell_type": "code",
   "execution_count": 3,
   "metadata": {},
   "outputs": [],
   "source": [
    "row = []\n",
    "col = []\n",
    "with open(input_path,\"r\",encoding=\"utf-8\") as fp:\n",
    "    for line_str in fp.readlines():\n",
    "        if line_str[0] == \"%\":\n",
    "            continue\n",
    "        coo = line_str.strip().split()\n",
    "        row.append(int(coo[0])-1)\n",
    "        col.append(int(coo[1])-1)\n",
    "\n",
    "data = np.ones_like(row)\n",
    "inc_matrix = np.asarray(\n",
    "    ssp.coo_matrix((data,(row,col)),shape=(max(row)+1,max(col)+1)).todense()\n",
    ")\n"
   ]
  },
  {
   "cell_type": "code",
   "execution_count": 9,
   "metadata": {},
   "outputs": [],
   "source": [
    "np.save(os.path.join(save_dir,\"incidence_matrix.npy\"),inc_matrix)"
   ]
  }
 ],
 "metadata": {
  "interpreter": {
   "hash": "faeb9b07cbdd1b79b0da84b592f957fe3f200612e6887dac95a675562f82213e"
  },
  "kernelspec": {
   "display_name": "Python 3.7.11 64-bit ('hlp': conda)",
   "language": "python",
   "name": "python3"
  },
  "language_info": {
   "codemirror_mode": {
    "name": "ipython",
    "version": 3
   },
   "file_extension": ".py",
   "mimetype": "text/x-python",
   "name": "python",
   "nbconvert_exporter": "python",
   "pygments_lexer": "ipython3",
   "version": "3.7.11"
  },
  "orig_nbformat": 4
 },
 "nbformat": 4,
 "nbformat_minor": 2
}
