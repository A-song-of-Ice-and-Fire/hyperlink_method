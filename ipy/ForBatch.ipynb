{
 "cells": [
  {
   "cell_type": "code",
   "execution_count": 1,
   "metadata": {},
   "outputs": [],
   "source": [
    "import os\n",
    "import numpy as np"
   ]
  },
  {
   "cell_type": "code",
   "execution_count": 9,
   "metadata": {},
   "outputs": [],
   "source": [
    "save_path = \"../start_trw.sh\""
   ]
  },
  {
   "cell_type": "code",
   "execution_count": 6,
   "metadata": {},
   "outputs": [],
   "source": [
    "width_range , length_range = range(1,6) , range(1,6)"
   ]
  },
  {
   "cell_type": "code",
   "execution_count": 7,
   "metadata": {},
   "outputs": [],
   "source": [
    "with open(save_path,\"w\",encoding=\"utf-8\") as fp:\n",
    "    for width in width_range:\n",
    "        for length in length_range:\n",
    "            fp.write(f\"python main.py -m HWalk -r 10 -wid {width} -len {length};\\n\")\n"
   ]
  },
  {
   "cell_type": "code",
   "execution_count": 10,
   "metadata": {},
   "outputs": [],
   "source": [
    "restart_probs = [0.001,0.01,0.1,0.3,0.5]"
   ]
  },
  {
   "cell_type": "code",
   "execution_count": 11,
   "metadata": {},
   "outputs": [],
   "source": [
    "with open(save_path,\"w\",encoding=\"utf-8\") as fp:\n",
    "    for rp in restart_probs:\n",
    "        fp.write(f\"python main.py -m TRW -r 10 -d iJO1366 -rp {rp};\\n\")"
   ]
  }
 ],
 "metadata": {
  "interpreter": {
   "hash": "2ae48f9685e5b2af60d1728174d9b753bd539071809e94d6c68e99c51f77af79"
  },
  "kernelspec": {
   "display_name": "Python 3.7.11 ('hlp')",
   "language": "python",
   "name": "python3"
  },
  "language_info": {
   "codemirror_mode": {
    "name": "ipython",
    "version": 3
   },
   "file_extension": ".py",
   "mimetype": "text/x-python",
   "name": "python",
   "nbconvert_exporter": "python",
   "pygments_lexer": "ipython3",
   "version": "3.7.11"
  },
  "orig_nbformat": 4
 },
 "nbformat": 4,
 "nbformat_minor": 2
}
